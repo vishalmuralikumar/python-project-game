{
 "cells": [
  {
   "cell_type": "code",
   "execution_count": 18,
   "id": "b483dee7-e379-4f8c-bc98-65ab56337222",
   "metadata": {},
   "outputs": [],
   "source": [
    "from IPython.display import clear_output\n",
    "\n",
    "def display_board(board):\n",
    "    clear_output()\n",
    "    print(board[9]+'|'+board[8]+'|'+board[7])\n",
    "    print(board[4]+'|'+board[5]+'|'+board[6])\n",
    "    print(board[1]+'|'+board[2]+'|'+board[3])"
   ]
  },
  {
   "cell_type": "code",
   "execution_count": 19,
   "id": "25f4ae65-2aa3-4009-acb0-059cbeb93f3b",
   "metadata": {},
   "outputs": [
    {
     "name": "stdout",
     "output_type": "stream",
     "text": [
      "X|O|X\n",
      "O|X|O\n",
      "X|O|X\n"
     ]
    }
   ],
   "source": [
    "test_board = ['#','X','O','X','O','X','O','X','O','X']\n",
    "display_board(test_board)"
   ]
  },
  {
   "cell_type": "code",
   "execution_count": 20,
   "id": "a5713aab-baa6-4cbc-a1b4-62c4b24152a8",
   "metadata": {},
   "outputs": [],
   "source": [
    "def player_input():\n",
    "    marker=''\n",
    "    while marker !='X' and marker !='O':\n",
    "        marker=input('player1:choose x and o:').upper()\n",
    "        if marker =='X':\n",
    "            return('X','O')\n",
    "        else:\n",
    "            return('O','X')\n",
    "    "
   ]
  },
  {
   "cell_type": "code",
   "execution_count": 21,
   "id": "09b43a8e-e3ac-44bf-b5b7-f990d9c78cc9",
   "metadata": {},
   "outputs": [
    {
     "name": "stdin",
     "output_type": "stream",
     "text": [
      "player1:choose x and o: x\n"
     ]
    }
   ],
   "source": [
    "player1_marker, player2_marker = player_input()"
   ]
  },
  {
   "cell_type": "code",
   "execution_count": 22,
   "id": "4e264631-6cbe-420f-891f-658340d96b75",
   "metadata": {},
   "outputs": [
    {
     "data": {
      "text/plain": [
       "'O'"
      ]
     },
     "execution_count": 22,
     "metadata": {},
     "output_type": "execute_result"
    }
   ],
   "source": [
    "player2_marker\n"
   ]
  },
  {
   "cell_type": "code",
   "execution_count": 23,
   "id": "7b49cf38-f647-4f27-a072-06a00a345903",
   "metadata": {},
   "outputs": [],
   "source": [
    "def place_marker(board, marker, position):\n",
    "    board[position]=marker"
   ]
  },
  {
   "cell_type": "code",
   "execution_count": 24,
   "id": "55ed664d-8dd3-40c7-acbe-392a1b485ea8",
   "metadata": {},
   "outputs": [
    {
     "data": {
      "text/plain": [
       "['#', 'X', 'O', 'X', 'O', 'X', 'O', 'X', 'O', 'X']"
      ]
     },
     "execution_count": 24,
     "metadata": {},
     "output_type": "execute_result"
    }
   ],
   "source": [
    "test_board"
   ]
  },
  {
   "cell_type": "code",
   "execution_count": 25,
   "id": "c11d9c0e-a030-4c2f-a68a-509983c9b47b",
   "metadata": {},
   "outputs": [
    {
     "name": "stdout",
     "output_type": "stream",
     "text": [
      "X|$|X\n",
      "O|X|O\n",
      "X|O|X\n"
     ]
    }
   ],
   "source": [
    "place_marker(test_board,'$',8)\n",
    "display_board(test_board)"
   ]
  },
  {
   "cell_type": "code",
   "execution_count": 26,
   "id": "788dd2fd-6cfe-4a81-bae9-7af3b10e057a",
   "metadata": {},
   "outputs": [],
   "source": [
    "def win_check(board, mark):\n",
    "    return((board[1]==mark and board[2]==mark and board[3]==mark) or\n",
    "    (board[4]==mark and board[5]==mark and board[6]==mark) or\n",
    "    (board[7]==mark and board[8]==mark and board[9]==mark)or\n",
    "    (board[1]==mark and board[4]==mark and board[7]==mark) or\n",
    "    (board[2]==mark and board[5]==mark and board[8]==mark) or\n",
    "    (board[3]==mark and board[6]==mark and board[9]==mark) or\n",
    "    (board[1]==mark and board[5]==mark and board[9]==mark) or\n",
    "    (board[3]==mark and board[5]==mark and board[7]==mark))\n",
    "   "
   ]
  },
  {
   "cell_type": "code",
   "execution_count": 27,
   "id": "aa9a027d-8033-454a-91f2-d061f82777e2",
   "metadata": {},
   "outputs": [
    {
     "name": "stdout",
     "output_type": "stream",
     "text": [
      "X|$|X\n",
      "O|X|O\n",
      "X|O|X\n"
     ]
    },
    {
     "data": {
      "text/plain": [
       "True"
      ]
     },
     "execution_count": 27,
     "metadata": {},
     "output_type": "execute_result"
    }
   ],
   "source": [
    "display_board(test_board)\n",
    "win_check(test_board,'X')"
   ]
  },
  {
   "cell_type": "code",
   "execution_count": 28,
   "id": "9e52872f-ffe9-4592-84de-2f968226bc76",
   "metadata": {},
   "outputs": [],
   "source": [
    "import random\n",
    "\n",
    "def choose_first():\n",
    "    flip=random.randint(0,1)\n",
    "    if flip==0:\n",
    "        return 'player1'\n",
    "    else:\n",
    "        return 'player2'"
   ]
  },
  {
   "cell_type": "code",
   "execution_count": 29,
   "id": "77289442-ac5a-4b2f-b49f-60c49d31cd10",
   "metadata": {},
   "outputs": [],
   "source": [
    "def space_check(board, position):\n",
    "    return board[position]==''\n",
    "    "
   ]
  },
  {
   "cell_type": "code",
   "execution_count": 30,
   "id": "a35ad4af-b8c0-4cad-83e2-6cd68c15734d",
   "metadata": {},
   "outputs": [],
   "source": [
    "def full_board_check(board):\n",
    "    for i in range(1,10):\n",
    "      if space_check(board,i): \n",
    "          return False\n",
    "    return True\n",
    "    \n",
    "    "
   ]
  },
  {
   "cell_type": "code",
   "execution_count": 31,
   "id": "5311ecac-05a8-49ee-8359-4f6719c8e19d",
   "metadata": {},
   "outputs": [],
   "source": [
    "def player_choice(board):\n",
    "    \n",
    "    position=0\n",
    "    while position not in [1,2,3,4,5,6,7,8,9] or not space_check(board,position):\n",
    "        position=int(input('choose a posistion 1-9'))\n",
    "    return position"
   ]
  },
  {
   "cell_type": "code",
   "execution_count": 32,
   "id": "46b3b104-60cf-484c-8c0e-f42f49bbbbd7",
   "metadata": {},
   "outputs": [],
   "source": [
    "def replay():\n",
    "    \n",
    "    choice=input('play again yes or no').upper()\n",
    "    return choice=='YES'"
   ]
  },
  {
   "cell_type": "code",
   "execution_count": 33,
   "id": "c1284976-8fa9-4e62-bd10-5abbe3124314",
   "metadata": {},
   "outputs": [
    {
     "name": "stdout",
     "output_type": "stream",
     "text": [
      "O||X\n",
      "X||O\n",
      "X|O|X\n",
      "PLAYER1 HAS WON\n"
     ]
    },
    {
     "name": "stdin",
     "output_type": "stream",
     "text": [
      "play again yes or no 8\n"
     ]
    }
   ],
   "source": [
    "print('Welcome to Tic Tac Toe!')\n",
    "\n",
    "    \n",
    "\n",
    "while True:\n",
    "    the_board=['']*10\n",
    "    player1_marker,player2_marker=player_input()\n",
    "    turn=choose_first()\n",
    "    print(turn +'will go first')\n",
    "    player_game=input('ready to play y or n')\n",
    "    if player_game.lower()=='y':\n",
    "        game_on=True\n",
    "    else:\n",
    "        game_on=False\n",
    "    while game_on:\n",
    "        if turn=='player1':\n",
    "            display_board(the_board)\n",
    "            position=player_choice(the_board)\n",
    "            place_marker(the_board,player1_marker,position)\n",
    "            if win_check(the_board,player1_marker):\n",
    "                display_board(the_board)\n",
    "                print('PLAYER1 HAS WON')\n",
    "                game_on=False\n",
    "            else:\n",
    "                if full_board_check(the_board):\n",
    "                    display_board(the_board)\n",
    "                    print('TIE GAME')\n",
    "                    break\n",
    "                else:\n",
    "                    turn='player2'\n",
    "        else:\n",
    "            display_board(the_board)\n",
    "            position=player_choice(the_board)\n",
    "            place_marker(the_board,player2_marker,position)\n",
    "            if win_check(the_board,player2_marker):\n",
    "                display_board(the_board)\n",
    "                print('PLAYER2 HAS WON')\n",
    "                game_on=False\n",
    "            else:\n",
    "                if full_board_check(the_board):\n",
    "                    display_board(the_board)\n",
    "                    print('TIE GAME')\n",
    "                    break\n",
    "                else:\n",
    "                    turn='player1'\n",
    "  \n",
    "  \n",
    "\n",
    "    if not replay():\n",
    "        break\n"
   ]
  },
  {
   "cell_type": "code",
   "execution_count": null,
   "id": "9b42f8c5-7519-46ae-8be0-c786f0790e40",
   "metadata": {},
   "outputs": [],
   "source": []
  }
 ],
 "metadata": {
  "kernelspec": {
   "display_name": "Python 3 (ipykernel)",
   "language": "python",
   "name": "python3"
  },
  "language_info": {
   "codemirror_mode": {
    "name": "ipython",
    "version": 3
   },
   "file_extension": ".py",
   "mimetype": "text/x-python",
   "name": "python",
   "nbconvert_exporter": "python",
   "pygments_lexer": "ipython3",
   "version": "3.11.7"
  }
 },
 "nbformat": 4,
 "nbformat_minor": 5
}
